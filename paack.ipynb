{
  "nbformat": 4,
  "nbformat_minor": 0,
  "metadata": {
    "colab": {
      "name": "paack.ipynb",
      "provenance": []
    },
    "kernelspec": {
      "name": "python3",
      "display_name": "Python 3"
    }
  },
  "cells": [
    {
      "cell_type": "markdown",
      "metadata": {
        "id": "E_ZKr6dFM4av"
      },
      "source": [
        "1. Can you sort a numerical list in Python?"
      ]
    },
    {
      "cell_type": "code",
      "metadata": {
        "id": "C1ZsT_YSxe0r",
        "colab": {
          "base_uri": "https://localhost:8080/"
        },
        "outputId": "660a8d19-2989-4b95-997b-01ec3a236965"
      },
      "source": [
        "list = [\"5\",\"8\",\"1\",\"2\",\"10\"]\n",
        "list.sort()\n",
        "print(list)"
      ],
      "execution_count": null,
      "outputs": [
        {
          "output_type": "stream",
          "text": [
            "['1', '10', '2', '5', '8']\n"
          ],
          "name": "stdout"
        }
      ]
    },
    {
      "cell_type": "markdown",
      "metadata": {
        "id": "PVMbtFyIM-K8"
      },
      "source": [
        "2. Write a code to count the number of capital letters in the “drivers_table.csv” file."
      ]
    },
    {
      "cell_type": "code",
      "metadata": {
        "colab": {
          "base_uri": "https://localhost:8080/"
        },
        "id": "IDovLz0DL-He",
        "outputId": "a7b1f9f8-abcc-4645-eeb0-d319dd575c80"
      },
      "source": [
        "import os\n",
        "import csv\n",
        "\n",
        "with open(\"/content/drive/MyDrive/Colab_Notebooks/drivers.csv\", newline='') as drivers:\n",
        "    count = 0\n",
        "    text = drivers.read()\n",
        "    for uppercase in text:\n",
        "      if uppercase.isupper():\n",
        "        count += 1\n",
        "print(count)\n"
      ],
      "execution_count": null,
      "outputs": [
        {
          "output_type": "stream",
          "text": [
            "1384\n"
          ],
          "name": "stdout"
        }
      ]
    },
    {
      "cell_type": "markdown",
      "metadata": {
        "id": "76ZM6LYlNCVP"
      },
      "source": [
        "3. Write a function that lists the files in a path with a specific file extension."
      ]
    },
    {
      "cell_type": "code",
      "metadata": {
        "colab": {
          "base_uri": "https://localhost:8080/"
        },
        "id": "415S5p3ErcX0",
        "outputId": "c9997ed6-780b-4094-8832-4ab2c4211f2e"
      },
      "source": [
        "import glob\n",
        "import os\n",
        "os.chdir(\"/content/sample_data\")\n",
        "for file in glob.glob(\"*.csv\"):\n",
        "    print(file)"
      ],
      "execution_count": null,
      "outputs": [
        {
          "output_type": "stream",
          "text": [
            "california_housing_test.csv\n",
            "mnist_train_small.csv\n",
            "california_housing_train.csv\n",
            "mnist_test.csv\n"
          ],
          "name": "stdout"
        }
      ]
    },
    {
      "cell_type": "code",
      "metadata": {
        "id": "O1EcQp0AS8ra"
      },
      "source": [
        "import sqlite3\n",
        "import csv\n",
        "import pandas as pd\n",
        " \n",
        "conn = sqlite3.connect('orders.db')\n",
        "c = conn.cursor()\n",
        "\n",
        "#c.execute('''CREATE TABLE ORDERS (id INTEGER PRIMARY KEY, order_number integer, driver_id integer, deliver_date date, delivery_start datetime, delivery_end datetime, attempted_time datetime, order_status text, country text, company text, vehicle text)''')\n",
        "#conn.commit()\n",
        "\n",
        "#read_clients = pd.read_csv (r'/content/drive/MyDrive/Colab_Notebooks/orders.csv')\n",
        "#read_clients.to_sql('ORDERS', conn, if_exists = 'append', index = False)\n",
        "\n",
        "\n"
      ],
      "execution_count": 6,
      "outputs": []
    },
    {
      "cell_type": "markdown",
      "metadata": {
        "id": "4piBSeYhM0y4"
      },
      "source": [
        ""
      ]
    }
  ]
}